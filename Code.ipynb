{
 "cells": [
  {
   "cell_type": "code",
   "execution_count": 1,
   "id": "75d237e0",
   "metadata": {},
   "outputs": [],
   "source": [
    "#2 thư viện của thầy hết, chưa biết dùng đâu\n",
    "import os\n",
    "import matplotlib.pyplot as plt"
   ]
  },
  {
   "cell_type": "code",
   "execution_count": 2,
   "id": "a62519fd",
   "metadata": {},
   "outputs": [],
   "source": [
    "#Chưa chỉnh gì cả\n",
    "\n",
    "def visualize_maze(matrix, bonus, start, end, route=None):\n",
    "    \"\"\"\n",
    "    Args:\n",
    "      1. matrix: The matrix read from the input file,\n",
    "      2. bonus: The array of bonus points,\n",
    "      3. start, end: The starting and ending points,\n",
    "      4. route: The route from the starting point to the ending one, defined by an array of (x, y), e.g. route = [(1, 2), (1, 3), (1, 4)]\n",
    "    \"\"\"\n",
    "    #1. Define walls and array of direction based on the route\n",
    "    walls=[(i,j) for i in range(len(matrix)) for j in range(len(matrix[0])) if matrix[i][j]=='x']\n",
    "\n",
    "    if route:\n",
    "        direction=[]\n",
    "        for i in range(1,len(route)):\n",
    "            if route[i][0]-route[i-1][0]>0:\n",
    "                direction.append('v') #^\n",
    "            elif route[i][0]-route[i-1][0]<0:\n",
    "                direction.append('^') #v        \n",
    "            elif route[i][1]-route[i-1][1]>0:\n",
    "                direction.append('>')\n",
    "            else:\n",
    "                direction.append('<')\n",
    "\n",
    "        direction.pop(0)\n",
    "\n",
    "    #2. Drawing the map\n",
    "    ax=plt.figure(dpi=100).add_subplot(111)\n",
    "\n",
    "    for i in ['top','bottom','right','left']:\n",
    "        ax.spines[i].set_visible(False)\n",
    "\n",
    "    plt.scatter([i[1] for i in walls],[-i[0] for i in walls],\n",
    "                marker='X',s=100,color='black')\n",
    "    \n",
    "    plt.scatter([i[1] for i in bonus],[-i[0] for i in bonus],\n",
    "                marker='P',s=100,color='green')\n",
    "\n",
    "    plt.scatter(start[1],-start[0],marker='*',\n",
    "                s=100,color='gold')\n",
    "\n",
    "    if route:\n",
    "        for i in range(len(route)-2):\n",
    "            plt.scatter(route[i+1][1],-route[i+1][0],\n",
    "                        marker=direction[i],color='silver')\n",
    "\n",
    "    plt.text(end[1],-end[0],'EXIT',color='red',\n",
    "         horizontalalignment='center',\n",
    "         verticalalignment='center')\n",
    "    plt.xticks([])\n",
    "    plt.yticks([])\n",
    "    plt.show()\n",
    "\n",
    "    print(f'Starting point (x, y) = {start[0], start[1]}')\n",
    "    print(f'Ending point (x, y) = {end[0], end[1]}')\n",
    "    \n",
    "    for _, point in enumerate(bonus):\n",
    "        print(f'Bonus point at position (x, y) = {point[0], point[1]} with point {point[2]}')"
   ]
  },
  {
   "cell_type": "code",
   "execution_count": 3,
   "id": "24227b72",
   "metadata": {},
   "outputs": [],
   "source": [
    "#Đọc maze vô mảng 2 chiều\n",
    "def read_file(file_name):\n",
    "    f=open(file_name,'r')\n",
    "    n = int(f.readline())\n",
    "    bonus_points = []\n",
    "    for i in range(n):\n",
    "        x, y, reward = f.readline().strip().split(' ')\n",
    "        bonus_points.append((x, y, reward))\n",
    "    matrix = []\n",
    "    for line in f.read().splitlines():\n",
    "        matrix.append(list(line))\n",
    "    f.close()\n",
    "\n",
    "    return bonus_points, matrix"
   ]
  },
  {
   "cell_type": "code",
   "execution_count": 4,
   "id": "2cd7043f",
   "metadata": {},
   "outputs": [],
   "source": [
    "#Xác định điểm S và E của maze\n",
    "def start_end_point(matrix):\n",
    "    for i in range(len(maze)):\n",
    "        for j in range(len(maze[0])):\n",
    "            if maze[i][j] == 'S':\n",
    "                start = (i,j)\n",
    "            elif i == 0 or j == 0 or i == len(maze) - 1 or j == len(maze[0]) - 1:\n",
    "                if maze[i][j]==' ':\n",
    "                    end = (i,j)\n",
    "    return start, end"
   ]
  },
  {
   "cell_type": "code",
   "execution_count": 66,
   "id": "eb6b232c",
   "metadata": {},
   "outputs": [],
   "source": [
    "#de quy (chưa ổn)\n",
    "def DFS(matrix, bonus_points, start, end, route):\n",
    "    if start == end:\n",
    "        route.append(start)\n",
    "        return route\n",
    "    elif start not in route:\n",
    "        route.append(start)\n",
    "        neighbour = [(start[0]-1,start[1]),(start[0]+1,start[1]),(start[0],start[1]-1),(start[0],start[1]+1)]\n",
    "        for point_next in neighbour:\n",
    "            if point_next not in route:\n",
    "                if matrix[point_next[0]][point_next[1]] == ' ' or matrix[point_next[0]][point_next[1]] == '+':                \n",
    "                    DFS(matrix, bonus_points, point_next, end, route)\n",
    "        #route = route[:route.index(start)]"
   ]
  },
  {
   "cell_type": "code",
   "execution_count": 60,
   "id": "97220642",
   "metadata": {},
   "outputs": [],
   "source": [
    "#khu de quy\n",
    "def DFS1(matrix, bonus_points, start, end, route):\n",
    "    stack = []\n",
    "    stack.append(start)\n",
    "    duyet = []\n",
    "    while len(stack) != 0:\n",
    "        cur_point = stack.pop()\n",
    "        if cur_point in duyet: continue\n",
    "        \n",
    "        duyet.append(cur_point)\n",
    "        if cur_point == end:\n",
    "            break\n",
    "        \n",
    "        neighbour = [(cur_point[0]-1,cur_point[1]),(cur_point[0]+1,cur_point[1]),(cur_point[0],cur_point[1]-1),(cur_point[0],cur_point[1]+1)]\n",
    "        for point_next in neighbour:\n",
    "            if point_next not in duyet:\n",
    "                if matrix[point_next[0]][point_next[1]] == ' ' or matrix[point_next[0]][point_next[1]] == '+':\n",
    "                    stack.append(point_next)\n",
    "    duyet.reverse()\n",
    "    i = 0\n",
    "    for i in range(len(duyet)):\n",
    "        if i == 0:\n",
    "            route.append(duyet[i])\n",
    "        else:\n",
    "            if duyet[i] in [(route[-1][0]-1,route[-1][1]),(route[-1][0]+1,route[-1][1]),(route[-1][0],route[-1][1]-1),(route[-1][0],route[-1][1]+1)]:\n",
    "                route.append(duyet[i])\n",
    "\n",
    "    route.reverse()"
   ]
  },
  {
   "cell_type": "code",
   "execution_count": 65,
   "id": "9508809a",
   "metadata": {},
   "outputs": [
    {
     "name": "stdout",
     "output_type": "stream",
     "text": [
      "[(8, 15), (8, 14), (7, 14), (6, 14), (6, 13), (6, 12), (6, 11), (6, 10), (6, 9), (7, 9), (7, 10), (8, 10), (8, 9), (8, 8), (8, 7), (8, 6), (8, 5), (7, 5), (6, 5), (5, 5), (5, 6), (5, 7), (5, 8), (5, 9), (4, 9), (3, 9), (3, 10), (2, 10), (2, 9), (2, 8), (2, 7), (1, 7), (1, 6), (1, 5), (2, 5), (2, 4), (2, 3), (2, 2), (2, 1), (2, 0)]\n"
     ]
    }
   ],
   "source": [
    "diem, maze = read_file('maze.txt')\n",
    "start, end = start_end_point(maze)\n",
    "route = []\n",
    "DFS1(maze, diem, start, end, route)\n",
    "print(route)"
   ]
  },
  {
   "cell_type": "code",
   "execution_count": null,
   "id": "fd638213",
   "metadata": {},
   "outputs": [],
   "source": []
  }
 ],
 "metadata": {
  "kernelspec": {
   "display_name": "Python 3 (ipykernel)",
   "language": "python",
   "name": "python3"
  },
  "language_info": {
   "codemirror_mode": {
    "name": "ipython",
    "version": 3
   },
   "file_extension": ".py",
   "mimetype": "text/x-python",
   "name": "python",
   "nbconvert_exporter": "python",
   "pygments_lexer": "ipython3",
   "version": "3.8.8"
  }
 },
 "nbformat": 4,
 "nbformat_minor": 5
}
