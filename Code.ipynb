{
 "cells": [
  {
   "cell_type": "code",
   "execution_count": 1,
   "id": "75d237e0",
   "metadata": {},
   "outputs": [],
   "source": [
    "#2 thư viện của thầy hết, chưa biết dùng đâu\n",
    "import os\n",
    "import matplotlib.pyplot as plt"
   ]
  },
  {
   "cell_type": "code",
   "execution_count": 2,
   "id": "a62519fd",
   "metadata": {},
   "outputs": [],
   "source": [
    "#Chưa chỉnh gì cả\n",
    "\n",
    "def visualize_maze(matrix, bonus, start, end, route=None):\n",
    "    \"\"\"\n",
    "    Args:\n",
    "      1. matrix: The matrix read from the input file,\n",
    "      2. bonus: The array of bonus points,\n",
    "      3. start, end: The starting and ending points,\n",
    "      4. route: The route from the starting point to the ending one, defined by an array of (x, y), e.g. route = [(1, 2), (1, 3), (1, 4)]\n",
    "    \"\"\"\n",
    "    #1. Define walls and array of direction based on the route\n",
    "    walls=[(i,j) for i in range(len(matrix)) for j in range(len(matrix[0])) if matrix[i][j]=='x']\n",
    "\n",
    "    if route:\n",
    "        direction=[]\n",
    "        for i in range(1,len(route)):\n",
    "            if route[i][0]-route[i-1][0]>0:\n",
    "                direction.append('v') #^\n",
    "            elif route[i][0]-route[i-1][0]<0:\n",
    "                direction.append('^') #v        \n",
    "            elif route[i][1]-route[i-1][1]>0:\n",
    "                direction.append('>')\n",
    "            else:\n",
    "                direction.append('<')\n",
    "\n",
    "        direction.pop(0)\n",
    "\n",
    "    #2. Drawing the map\n",
    "    ax=plt.figure(dpi=100).add_subplot(111)\n",
    "\n",
    "    for i in ['top','bottom','right','left']:\n",
    "        ax.spines[i].set_visible(False)\n",
    "\n",
    "    plt.scatter([i[1] for i in walls],[-i[0] for i in walls],\n",
    "                marker='X',s=100,color='black')\n",
    "    \n",
    "    plt.scatter([i[1] for i in bonus],[-i[0] for i in bonus],\n",
    "                marker='P',s=100,color='green')\n",
    "\n",
    "    plt.scatter(start[1],-start[0],marker='*',\n",
    "                s=100,color='gold')\n",
    "\n",
    "    if route:\n",
    "        for i in range(len(route)-2):\n",
    "            plt.scatter(route[i+1][1],-route[i+1][0],\n",
    "                        marker=direction[i],color='silver')\n",
    "\n",
    "    plt.text(end[1],-end[0],'EXIT',color='red',\n",
    "         horizontalalignment='center',\n",
    "         verticalalignment='center')\n",
    "    plt.xticks([])\n",
    "    plt.yticks([])\n",
    "    plt.show()\n",
    "\n",
    "    print(f'Starting point (x, y) = {start[0], start[1]}')\n",
    "    print(f'Ending point (x, y) = {end[0], end[1]}')\n",
    "    \n",
    "    for _, point in enumerate(bonus):\n",
    "        print(f'Bonus point at position (x, y) = {point[0], point[1]} with point {point[2]}')"
   ]
  },
  {
   "cell_type": "code",
   "execution_count": 3,
   "id": "24227b72",
   "metadata": {},
   "outputs": [],
   "source": [
    "#Đọc maze vô mảng 2 chiều\n",
    "def read_file(file_name):\n",
    "    f=open(file_name,'r')\n",
    "    n = int(f.readline())\n",
    "    bonus_points = []\n",
    "    for i in range(n):\n",
    "        x, y, reward = f.readline().strip().split(' ')\n",
    "        bonus_points.append((x, y, reward))\n",
    "    matrix = []\n",
    "    for line in f.read().splitlines():\n",
    "        matrix.append(list(line))\n",
    "    f.close()\n",
    "\n",
    "    return bonus_points, matrix"
   ]
  },
  {
   "cell_type": "code",
   "execution_count": 4,
   "id": "2cd7043f",
   "metadata": {},
   "outputs": [],
   "source": [
    "#Xác định điểm S và E của maze\n",
    "def start_end_point(matrix):\n",
    "    for i in range(len(maze)):\n",
    "        for j in range(len(maze[0])):\n",
    "            if maze[i][j] == 'S':\n",
    "                start = (i,j)\n",
    "            elif i == 0 or j == 0 or i == len(maze) - 1 or j == len(maze[0]) - 1:\n",
    "                if maze[i][j]==' ':\n",
    "                    end = (i,j)\n",
    "    return start, end"
   ]
  },
  {
   "cell_type": "code",
   "execution_count": 37,
   "id": "97220642",
   "metadata": {},
   "outputs": [],
   "source": [
    "#khu de quy\n",
    "def DFS(matrix, start, end):\n",
    "    route = []\n",
    "    \n",
    "    if start == end:\n",
    "        route.append(start)\n",
    "        return route\n",
    "    \n",
    "    stack_frontier = []\n",
    "    list_explore = []\n",
    "    dfspath = {}\n",
    "    stack_frontier.append(start)\n",
    "    while len(stack_frontier) != 0:\n",
    "        cur_point = stack_frontier.pop()\n",
    "        if cur_point == end:\n",
    "            break        \n",
    "        neighbour = [(cur_point[0]-1,cur_point[1]),(cur_point[0]+1,cur_point[1]),(cur_point[0],cur_point[1]-1),(cur_point[0],cur_point[1]+1)]\n",
    "        for point_next in neighbour:\n",
    "            if point_next not in list_explore:\n",
    "                if matrix[point_next[0]][point_next[1]] == ' ':\n",
    "                    stack_frontier.append(point_next)\n",
    "                    list_explore.append(point_next)\n",
    "                    dfspath[point_next] = cur_point\n",
    "    cur_point = end\n",
    "    route.append(end)\n",
    "    while cur_point != start:\n",
    "        route.append(dfspath[cur_point])\n",
    "        cur_point = dfspath[cur_point]\n",
    "    route.reverse()\n",
    "    return route"
   ]
  },
  {
   "cell_type": "code",
   "execution_count": 32,
   "id": "5b597830",
   "metadata": {},
   "outputs": [],
   "source": [
    "def Greedy(maze, start, end):\n",
    "    route = []\n",
    "    if start == end:\n",
    "        route.append(start)\n",
    "        return route\n",
    "    list_close = []\n",
    "    list_close.append(start)   \n",
    "    list_open = []\n",
    "    list_heu_open = []\n",
    "    heu_matrix= []\n",
    "    path = {}\n",
    "    for i in range(len(maze)):\n",
    "        row_man_dis = []\n",
    "        for j in range(len(maze[0])):\n",
    "            row_man_dis.append(abs(i-end[0])+abs(j-end[1]))\n",
    "        heu_matrix.append(row_man_dis)\n",
    "    cur_point = start\n",
    "    while cur_point != end:\n",
    "        neighbour = [(cur_point[0]-1,cur_point[1]),(cur_point[0]+1,cur_point[1]),(cur_point[0],cur_point[1]-1),(cur_point[0],cur_point[1]+1)]\n",
    "        for point_next in neighbour:\n",
    "            if point_next not in list_close and point_next not in list_open:\n",
    "                if maze[point_next[0]][point_next[1]] == ' ':\n",
    "                    list_open.insert(0,point_next)\n",
    "                    list_heu_open.insert(0,heu_matrix[point_next[0]][point_next[1]])\n",
    "                    path[point_next] = cur_point\n",
    "        min_heu = min(list_heu_open)\n",
    "        index_next = list_heu_open.index(min_heu)\n",
    "        cur_point = list_open.pop(index_next)\n",
    "        list_close.append(cur_point)\n",
    "    cur_point = end\n",
    "    route.append(end)\n",
    "    while cur_point != start:\n",
    "        route.append(path[cur_point])\n",
    "        cur_point = path[cur_point]\n",
    "    route.reverse()\n",
    "    return route       "
   ]
  },
  {
   "cell_type": "code",
   "execution_count": 38,
   "id": "9508809a",
   "metadata": {},
   "outputs": [
    {
     "name": "stdout",
     "output_type": "stream",
     "text": [
      "[(8, 15), (8, 14), (7, 14), (6, 14), (6, 13), (6, 12), (6, 11), (6, 10), (6, 9), (7, 9), (8, 9), (8, 8), (8, 7), (8, 6), (8, 5), (7, 5), (6, 5), (5, 5), (5, 4), (5, 3), (5, 2), (5, 1), (4, 1), (3, 1), (2, 1), (2, 0)]\n"
     ]
    }
   ],
   "source": [
    "diem, maze = read_file('maze.txt')\n",
    "start, end = start_end_point(maze)\n",
    "route = []\n",
    "route = DFS(maze, start, end)\n",
    "print(route)"
   ]
  },
  {
   "cell_type": "code",
   "execution_count": 35,
   "id": "fd638213",
   "metadata": {
    "scrolled": false
   },
   "outputs": [
    {
     "name": "stdout",
     "output_type": "stream",
     "text": [
      "[(8, 15), (8, 14), (7, 14), (6, 14), (6, 13), (6, 12), (6, 11), (6, 10), (6, 9), (5, 9), (5, 8), (5, 7), (5, 6), (5, 5), (5, 4), (5, 3), (5, 2), (5, 1), (4, 1), (3, 1), (2, 1), (2, 0)]\n"
     ]
    }
   ],
   "source": [
    "diem, maze = read_file('maze.txt')\n",
    "start, end = start_end_point(maze)\n",
    "route = []\n",
    "route = Greedy(maze, start, end)\n",
    "print(route)"
   ]
  },
  {
   "cell_type": "code",
   "execution_count": null,
   "id": "b57b1ead",
   "metadata": {},
   "outputs": [],
   "source": []
  }
 ],
 "metadata": {
  "kernelspec": {
   "display_name": "Python 3 (ipykernel)",
   "language": "python",
   "name": "python3"
  },
  "language_info": {
   "codemirror_mode": {
    "name": "ipython",
    "version": 3
   },
   "file_extension": ".py",
   "mimetype": "text/x-python",
   "name": "python",
   "nbconvert_exporter": "python",
   "pygments_lexer": "ipython3",
   "version": "3.8.8"
  }
 },
 "nbformat": 4,
 "nbformat_minor": 5
}
