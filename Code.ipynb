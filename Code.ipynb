{
 "cells": [
  {
   "cell_type": "code",
   "execution_count": 24,
   "id": "75d237e0",
   "metadata": {},
   "outputs": [],
   "source": [
    "#2 thư viện của thầy hết, chưa biết dùng đâu\n",
    "import os\n",
    "import matplotlib.pyplot as plt"
   ]
  },
  {
   "cell_type": "code",
   "execution_count": null,
   "id": "a62519fd",
   "metadata": {},
   "outputs": [],
   "source": [
    "#Chưa chỉnh gì cả\n",
    "\n",
    "def visualize_maze(matrix, bonus, start, end, route=None):\n",
    "    \"\"\"\n",
    "    Args:\n",
    "      1. matrix: The matrix read from the input file,\n",
    "      2. bonus: The array of bonus points,\n",
    "      3. start, end: The starting and ending points,\n",
    "      4. route: The route from the starting point to the ending one, defined by an array of (x, y), e.g. route = [(1, 2), (1, 3), (1, 4)]\n",
    "    \"\"\"\n",
    "    #1. Define walls and array of direction based on the route\n",
    "    walls=[(i,j) for i in range(len(matrix)) for j in range(len(matrix[0])) if matrix[i][j]=='x']\n",
    "\n",
    "    if route:\n",
    "        direction=[]\n",
    "        for i in range(1,len(route)):\n",
    "            if route[i][0]-route[i-1][0]>0:\n",
    "                direction.append('v') #^\n",
    "            elif route[i][0]-route[i-1][0]<0:\n",
    "                direction.append('^') #v        \n",
    "            elif route[i][1]-route[i-1][1]>0:\n",
    "                direction.append('>')\n",
    "            else:\n",
    "                direction.append('<')\n",
    "\n",
    "        direction.pop(0)\n",
    "\n",
    "    #2. Drawing the map\n",
    "    ax=plt.figure(dpi=100).add_subplot(111)\n",
    "\n",
    "    for i in ['top','bottom','right','left']:\n",
    "        ax.spines[i].set_visible(False)\n",
    "\n",
    "    plt.scatter([i[1] for i in walls],[-i[0] for i in walls],\n",
    "                marker='X',s=100,color='black')\n",
    "    \n",
    "    plt.scatter([i[1] for i in bonus],[-i[0] for i in bonus],\n",
    "                marker='P',s=100,color='green')\n",
    "\n",
    "    plt.scatter(start[1],-start[0],marker='*',\n",
    "                s=100,color='gold')\n",
    "\n",
    "    if route:\n",
    "        for i in range(len(route)-2):\n",
    "            plt.scatter(route[i+1][1],-route[i+1][0],\n",
    "                        marker=direction[i],color='silver')\n",
    "\n",
    "    plt.text(end[1],-end[0],'EXIT',color='red',\n",
    "         horizontalalignment='center',\n",
    "         verticalalignment='center')\n",
    "    plt.xticks([])\n",
    "    plt.yticks([])\n",
    "    plt.show()\n",
    "\n",
    "    print(f'Starting point (x, y) = {start[0], start[1]}')\n",
    "    print(f'Ending point (x, y) = {end[0], end[1]}')\n",
    "    \n",
    "    for _, point in enumerate(bonus):\n",
    "        print(f'Bonus point at position (x, y) = {point[0], point[1]} with point {point[2]}')"
   ]
  },
  {
   "cell_type": "code",
   "execution_count": 6,
   "id": "24227b72",
   "metadata": {},
   "outputs": [],
   "source": [
    "#Đọc maze vô mảng 2 chiều\n",
    "def read_file(file_name):\n",
    "    f=open(file_name,'r')\n",
    "    n = int(f.readline())\n",
    "    bonus_points = []\n",
    "    for i in range(n):\n",
    "        x, y, reward = f.readline().strip().split(' ')\n",
    "        bonus_points.append((x, y, reward))\n",
    "    matrix = []\n",
    "    for line in f.read().splitlines():\n",
    "        matrix.append(list(line))\n",
    "    f.close()\n",
    "\n",
    "    return bonus_points, matrix"
   ]
  },
  {
   "cell_type": "code",
   "execution_count": 22,
   "id": "2cd7043f",
   "metadata": {},
   "outputs": [],
   "source": [
    "#Xác định điểm S và E của maze\n",
    "def start_end_point(matrix):\n",
    "    for i in range(len(maze)):\n",
    "        for j in range(len(maze[0])):\n",
    "            if maze[i][j] == 'S':\n",
    "                start = (i,j)\n",
    "            elif i == 0 or j == 0 or i == len(maze) - 1 or j == len(maze[0]) - 1:\n",
    "                if maze[i][j]==' ':\n",
    "                    end = (i,j)\n",
    "    return start, end"
   ]
  },
  {
   "cell_type": "code",
   "execution_count": 44,
   "id": "eb6b232c",
   "metadata": {},
   "outputs": [],
   "source": [
    "def DFS(matrix, bonus_points, start, end, route):\n",
    "    if start == end:\n",
    "        route.append(start)\n",
    "        return route\n",
    "    if start not in route:\n",
    "        route.append(start)\n",
    "        print(route)\n",
    "        neighbour = [(start[0]-1,start[1]),(start[0]+1,start[1]),(start[0],start[1]-1),(start[0],start[1]+1)]\n",
    "        for point_next in neighbour:\n",
    "            if matrix[point_next[0]][point_next[1]] == ' ' or matrix[point_next[0]][point_next[1]] == '+':\n",
    "                DFS(matrix, bonus_points, point_next, end, route)"
   ]
  },
  {
   "cell_type": "code",
   "execution_count": 45,
   "id": "9508809a",
   "metadata": {},
   "outputs": [
    {
     "name": "stdout",
     "output_type": "stream",
     "text": [
      "(2, 1)\n",
      "(1, 0)\n",
      "[(2, 1)]\n",
      "[(2, 1), (1, 1)]\n",
      "[(2, 1), (1, 1), (1, 0)]\n"
     ]
    }
   ],
   "source": [
    "diem, maze = read_file('mini_maze.txt')\n",
    "start, end = start_end_point(maze)\n",
    "print(start)\n",
    "print(end)\n",
    "route = []\n",
    "DFS(maze, diem, start, end, route)\n",
    "print(route)"
   ]
  }
 ],
 "metadata": {
  "kernelspec": {
   "display_name": "Python 3 (ipykernel)",
   "language": "python",
   "name": "python3"
  },
  "language_info": {
   "codemirror_mode": {
    "name": "ipython",
    "version": 3
   },
   "file_extension": ".py",
   "mimetype": "text/x-python",
   "name": "python",
   "nbconvert_exporter": "python",
   "pygments_lexer": "ipython3",
   "version": "3.8.8"
  }
 },
 "nbformat": 4,
 "nbformat_minor": 5
}
